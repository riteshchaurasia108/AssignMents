{
 "cells": [
  {
   "cell_type": "code",
   "execution_count": null,
   "metadata": {},
   "outputs": [],
   "source": [
    "####### As i join this batch very late , but i am still doing hard work by watching your recorded video, please check my assignment and also please give me marks of this assignment"
   ]
  },
  {
   "cell_type": "code",
   "execution_count": 2,
   "metadata": {},
   "outputs": [],
   "source": [
    "# Python Basic Variable"
   ]
  },
  {
   "cell_type": "code",
   "execution_count": 16,
   "metadata": {},
   "outputs": [
    {
     "name": "stdout",
     "output_type": "stream",
     "text": [
      "value of x after swapping is 9, \n",
      "      and value of y after swapping is 8\n"
     ]
    }
   ],
   "source": [
    "'''\n",
    "1. Declare two variables, `x` and `y`, and assign them integer values. Swap the\n",
    "values of these variables without using any temporary variable.\n",
    "\n",
    "'''\n",
    "\n",
    "# swapping means interchange both variable, and this can be done by various methods,\n",
    "\n",
    "#Let two variable:\n",
    "x=8 \n",
    "y=9\n",
    "\n",
    "# swapping the varible value:\n",
    "x,y=9,8\n",
    "\n",
    "# printing value of variables.\n",
    "print(f'''value of x after swapping is {x}, \n",
    "      and value of y after swapping is {y}''')"
   ]
  },
  {
   "cell_type": "code",
   "execution_count": 18,
   "metadata": {},
   "outputs": [
    {
     "name": "stdout",
     "output_type": "stream",
     "text": [
      "The Area of a rectangle is  12\n"
     ]
    }
   ],
   "source": [
    "'''\n",
    "2. Create a program that calculates the area of a rectangle. Take the length and\n",
    "width as inputs from the user and store them in variables. Calculate and\n",
    "display the area.\n",
    "\n",
    "'''\n",
    "# Length is L and breadth is B\n",
    "L=int(input(\"enter the lenght of a rectangle\"))\n",
    "B=int(input(\"enter the breadth of a rectangle\"))\n",
    "\n",
    "# Area \n",
    "Area=L*B\n",
    "\n",
    "# Display the result:\n",
    "print(\"The Area of a rectangle is \",Area)"
   ]
  },
  {
   "cell_type": "code",
   "execution_count": 20,
   "metadata": {},
   "outputs": [
    {
     "name": "stdout",
     "output_type": "stream",
     "text": [
      "0 degree tempreature is equal to 32.0 degree fahrenheit\n"
     ]
    }
   ],
   "source": [
    "'''\n",
    "3. Write a Python program that converts temperatures from Celsius to\n",
    "Fahrenheit. Take the temperature in Celsius as input, store it in a variable,\n",
    "convert it to Fahrenheit, and display the result. \n",
    "\n",
    "'''\n",
    "# temp in celsius\n",
    "temp=int(input(\"enter the temperature in celsius\"))\n",
    "\n",
    "# formula to convert celsius to fahrenheit: (0°C × 9/5) + 32 = 32°F\n",
    "Fahren=(temp*9/5)+32\n",
    "\n",
    "# Display the result:\n",
    "print(f'{temp} degree tempreature is equal to {Fahren} degree fahrenheit')\n"
   ]
  },
  {
   "cell_type": "code",
   "execution_count": 27,
   "metadata": {},
   "outputs": [
    {
     "name": "stdout",
     "output_type": "stream",
     "text": [
      "0.0 degree is equal to 32.0 degrree fahrenheit\n"
     ]
    }
   ],
   "source": [
    "# converting celsius in to fahrenheit by defining functions:\n",
    "\n",
    "# Declare function to convert celsius into Fahrenheit:\n",
    "def celsius_to_fahrenheit(celsius):        # here function is manually prepared like. bin(),print(), everything(formula) is assigned in earlier.\n",
    "    return ((celsius * 9/5) + 32)\n",
    "\n",
    "# Input to temperature in celsius:\n",
    "temp = float(input(\"enter the temperature in celsius\"))\n",
    "\n",
    "# convert celsius in fahrenheit\n",
    "fahrenheit=celsius_to_fahrenheit(temp) # \n",
    "\n",
    "# Display the output\n",
    "print(f\"{temp} degree is equal to {fahrenheit} degrree fahrenheit\")"
   ]
  },
  {
   "cell_type": "code",
   "execution_count": null,
   "metadata": {},
   "outputs": [],
   "source": []
  },
  {
   "cell_type": "code",
   "execution_count": 6,
   "metadata": {},
   "outputs": [],
   "source": [
    "# String Based Questions"
   ]
  },
  {
   "cell_type": "code",
   "execution_count": 35,
   "metadata": {},
   "outputs": [
    {
     "name": "stdout",
     "output_type": "stream",
     "text": [
      "the length of the string is 4\n"
     ]
    }
   ],
   "source": [
    "'''\n",
    "1. Write a Python program that takes a string as input and prints the length of\n",
    "the string.\n",
    "\n",
    "'''\n",
    "\n",
    "# taking input:\n",
    "var=input(\"enter the string value\")\n",
    "\n",
    "# finding length of string\n",
    "length_of_string=len(var)\n",
    "\n",
    "# Display the output\n",
    "print(f'the length of the string is {length_of_string}')"
   ]
  },
  {
   "cell_type": "code",
   "execution_count": 39,
   "metadata": {},
   "outputs": [
    {
     "name": "stdout",
     "output_type": "stream",
     "text": [
      "<function count_vowel at 0x00000197D78F7EC0>\n"
     ]
    }
   ],
   "source": [
    "'''\n",
    "2. Create a program that takes a sentence from the user and counts the number\n",
    "of vowels (a, e, i, o, u) in the string.\n",
    "\n",
    "'''\n",
    "# Defining the function to count vowel\n",
    "def count_vowel(sentence):\n",
    "    vowel=\"aeiou\"\n",
    "    vowel_count=0\n",
    "\n",
    "\n",
    "    # takking loop to count/check again and again  for vowel\n",
    "    for char in sentence: # char is again a defining term\n",
    "        if char in vowel:\n",
    "            vowel_count +=1\n",
    "\n",
    "    return count_vowel\n",
    "\n",
    "\n",
    "# taking input from user\n",
    "sen=input(\"enter a sentence \")\n",
    "\n",
    "result=count_vowel(sen)\n",
    "print(result)\n",
    "# counting the vowels"
   ]
  },
  {
   "cell_type": "code",
   "execution_count": null,
   "metadata": {},
   "outputs": [],
   "source": []
  },
  {
   "cell_type": "code",
   "execution_count": 41,
   "metadata": {},
   "outputs": [
    {
     "name": "stdout",
     "output_type": "stream",
     "text": [
      ",ayhs dna mar\n"
     ]
    }
   ],
   "source": [
    "'''3. Given a string, reverse the order of characters using string slicing and print\n",
    "the reversed string.\n",
    "\n",
    "'''\n",
    "# preparing a functio to reverse the string\n",
    "def rev_str(input_string):\n",
    "    str=input_string[::-1]\n",
    "    return str\n",
    "\n",
    "# taking input from user\n",
    "input_usr=input(\"enter the input\")\n",
    "\n",
    "# revered the string\n",
    "result=rev_str(input_usr)\n",
    "\n",
    "# display the output\n",
    "print(result)"
   ]
  },
  {
   "cell_type": "code",
   "execution_count": null,
   "metadata": {},
   "outputs": [],
   "source": []
  },
  {
   "cell_type": "code",
   "execution_count": 74,
   "metadata": {},
   "outputs": [
    {
     "name": "stdout",
     "output_type": "stream",
     "text": [
      "pap\n"
     ]
    }
   ],
   "source": [
    "\n",
    "'''\n",
    "4. Write a program that takes a string as input and checks if it is a palindrome\n",
    "(reads the same forwards and backwards).    '''\n",
    "# Palidrome means charcter  having same pronounced or menain while  reversed or  straight\n",
    "var1=input(\"enter the palindromic string\")\n",
    "\n",
    "result=''.join(var1.split()).lower()\n",
    "print(result)\n",
    "\n"
   ]
  },
  {
   "cell_type": "code",
   "execution_count": 70,
   "metadata": {},
   "outputs": [
    {
     "data": {
      "text/plain": [
       "'kya kyaa'"
      ]
     },
     "execution_count": 70,
     "metadata": {},
     "output_type": "execute_result"
    }
   ],
   "source": [
    "\n",
    "'''\n",
    "5. Create a program that takes a string as input and removes all the spaces from\n",
    "it. Print the modified string without spaces.'''\n",
    "\n",
    "\n",
    "var=input(\"enter the string\")\n",
    "result=var.strip()\n",
    "result\n"
   ]
  },
  {
   "cell_type": "code",
   "execution_count": null,
   "metadata": {},
   "outputs": [],
   "source": []
  },
  {
   "cell_type": "code",
   "execution_count": null,
   "metadata": {},
   "outputs": [],
   "source": []
  },
  {
   "cell_type": "code",
   "execution_count": null,
   "metadata": {},
   "outputs": [],
   "source": []
  }
 ],
 "metadata": {
  "kernelspec": {
   "display_name": "base",
   "language": "python",
   "name": "python3"
  },
  "language_info": {
   "codemirror_mode": {
    "name": "ipython",
    "version": 3
   },
   "file_extension": ".py",
   "mimetype": "text/x-python",
   "name": "python",
   "nbconvert_exporter": "python",
   "pygments_lexer": "ipython3",
   "version": "3.11.4"
  }
 },
 "nbformat": 4,
 "nbformat_minor": 2
}
